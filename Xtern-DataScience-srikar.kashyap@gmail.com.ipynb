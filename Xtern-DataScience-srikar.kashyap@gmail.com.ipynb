{
 "cells": [
  {
   "cell_type": "markdown",
   "id": "fb50f5e9",
   "metadata": {},
   "source": [
    "# Xtern Data Science Assignment "
   ]
  },
  {
   "cell_type": "markdown",
   "id": "95094955",
   "metadata": {},
   "source": [
    "We are taking **Bloomington, Indiana** as the location of interest"
   ]
  },
  {
   "cell_type": "markdown",
   "id": "3e9a5297",
   "metadata": {},
   "source": [
    "## Step 1: Initialize Google Maps Places API"
   ]
  },
  {
   "cell_type": "code",
   "execution_count": 1,
   "id": "48e3d801",
   "metadata": {},
   "outputs": [],
   "source": [
    "import pandas as pd\n",
    "import requests\n",
    "import json\n",
    "import plotly.express as px\n",
    "# from jsontocsv import json_to_csv"
   ]
  },
  {
   "cell_type": "markdown",
   "id": "0174c675",
   "metadata": {},
   "source": [
    "## Download places for a few categories"
   ]
  },
  {
   "cell_type": "code",
   "execution_count": 2,
   "id": "99cf6fb3",
   "metadata": {},
   "outputs": [],
   "source": [
    "categories = ['park','restaurant','coffee shop','museum']"
   ]
  },
  {
   "cell_type": "code",
   "execution_count": 3,
   "id": "ada52394",
   "metadata": {},
   "outputs": [],
   "source": [
    "# lat long of Bloomington Sample Gates\n",
    "input_lat_lng = \"39.166559241129036, -86.5269552689294\""
   ]
  },
  {
   "cell_type": "code",
   "execution_count": 4,
   "id": "1508599d",
   "metadata": {},
   "outputs": [],
   "source": [
    "radius = 10000 # radius to search (10km is taken)\n",
    "limit = 20 # number of items"
   ]
  },
  {
   "cell_type": "code",
   "execution_count": 5,
   "id": "8a0176a7",
   "metadata": {},
   "outputs": [],
   "source": [
    "api_key = \"<Private API Key. Removed for privacy purposes>\""
   ]
  },
  {
   "cell_type": "markdown",
   "id": "986d70ae",
   "metadata": {},
   "source": [
    "#### Below code is run one time. Can be run again using a valid Google Maps API Key. Removed key due to privacy concerns "
   ]
  },
  {
   "cell_type": "code",
   "execution_count": 6,
   "id": "6b05fdbe",
   "metadata": {},
   "outputs": [],
   "source": [
    "# def json_to_csv(data,category):\n",
    "#     out = open(r'C:\\Users\\srika\\Desktop\\Projects\\Xtern\\data.csv', 'a', encoding='utf-8')\n",
    "#     data = json.loads(data)\n",
    "#     for place in data['results']:\n",
    "#         try:\n",
    "#             out.write(place['name'] + '\\t' + place['vicinity'] + '\\t' + str(place['geometry']['location']['lat']) + '\\t' + str(place['geometry']['location']['lng']) + '\\t' + str(\n",
    "#                 place['rating']) + '\\t' + str(place['user_ratings_total'])+\"\\t\"+str(category)+\"\\n\")\n",
    "#         except KeyError:\n",
    "#             print('KeyError')\n",
    "#             pass\n",
    "#     out.close()"
   ]
  },
  {
   "cell_type": "code",
   "execution_count": 7,
   "id": "0fb41e0b",
   "metadata": {},
   "outputs": [],
   "source": [
    "# out = open(r'C:\\Users\\srika\\Desktop\\Projects\\Xtern\\output_new.csv', 'w', encoding='utf-8')\n",
    "# out.write('Name\\tAddress\\tLat\\tLng\\tRating\\tUser_ratings_total\\tCategory\\n')\n",
    "# out.close()\n",
    "# for category in categories:\n",
    "#     url = \"https://maps.googleapis.com/maps/api/place/nearbysearch/json?location={}&radius={}&keyword={}&key={}\".format(\n",
    "#     input_lat_lng, radius,category,api_key)\n",
    "#     payload = {}\n",
    "#     headers = {}\n",
    "\n",
    "#     response = requests.request(\"GET\", url, headers=headers, data=payload)\n",
    "#     print(response.text)\n",
    "#     with open(r'output_new.json', 'w', encoding='utf-8') as outfile:\n",
    "#         outfile.write(response.text)\n",
    "#     data = open(r'output_new.json','r',encoding='utf-8')\n",
    "#     json_to_csv(data.read(),category)\n",
    "# # out.close()"
   ]
  },
  {
   "cell_type": "markdown",
   "id": "56628912",
   "metadata": {},
   "source": [
    "#### Convert Raw Output into meaninful CSV file "
   ]
  },
  {
   "cell_type": "code",
   "execution_count": 8,
   "id": "b4b3c14a",
   "metadata": {},
   "outputs": [],
   "source": [
    "df = pd.read_csv(\"output_new.csv\",sep='\\t')"
   ]
  },
  {
   "cell_type": "code",
   "execution_count": 9,
   "id": "89d839e1",
   "metadata": {},
   "outputs": [
    {
     "data": {
      "text/html": [
       "<div>\n",
       "<style scoped>\n",
       "    .dataframe tbody tr th:only-of-type {\n",
       "        vertical-align: middle;\n",
       "    }\n",
       "\n",
       "    .dataframe tbody tr th {\n",
       "        vertical-align: top;\n",
       "    }\n",
       "\n",
       "    .dataframe thead th {\n",
       "        text-align: right;\n",
       "    }\n",
       "</style>\n",
       "<table border=\"1\" class=\"dataframe\">\n",
       "  <thead>\n",
       "    <tr style=\"text-align: right;\">\n",
       "      <th></th>\n",
       "      <th>Name</th>\n",
       "      <th>Address</th>\n",
       "      <th>Lat</th>\n",
       "      <th>Lng</th>\n",
       "      <th>Rating</th>\n",
       "      <th>User_ratings_total</th>\n",
       "      <th>Category</th>\n",
       "    </tr>\n",
       "  </thead>\n",
       "  <tbody>\n",
       "    <tr>\n",
       "      <th>0</th>\n",
       "      <td>Waldron Hill Buskirk Park</td>\n",
       "      <td>331 S Washington St, Bloomington</td>\n",
       "      <td>39.163646</td>\n",
       "      <td>-86.531772</td>\n",
       "      <td>4.3</td>\n",
       "      <td>53</td>\n",
       "      <td>park</td>\n",
       "    </tr>\n",
       "    <tr>\n",
       "      <th>1</th>\n",
       "      <td>Southeast Park</td>\n",
       "      <td>Bloomington</td>\n",
       "      <td>39.149039</td>\n",
       "      <td>-86.504274</td>\n",
       "      <td>4.7</td>\n",
       "      <td>72</td>\n",
       "      <td>park</td>\n",
       "    </tr>\n",
       "    <tr>\n",
       "      <th>2</th>\n",
       "      <td>Will Detmer Park</td>\n",
       "      <td>4140 W Vernal Pike, Bloomington</td>\n",
       "      <td>39.180009</td>\n",
       "      <td>-86.579601</td>\n",
       "      <td>4.5</td>\n",
       "      <td>232</td>\n",
       "      <td>park</td>\n",
       "    </tr>\n",
       "    <tr>\n",
       "      <th>3</th>\n",
       "      <td>Broadview Park</td>\n",
       "      <td>704 W Graham Dr, Bloomington</td>\n",
       "      <td>39.140268</td>\n",
       "      <td>-86.541145</td>\n",
       "      <td>4.4</td>\n",
       "      <td>34</td>\n",
       "      <td>park</td>\n",
       "    </tr>\n",
       "    <tr>\n",
       "      <th>4</th>\n",
       "      <td>Park Ridge Park</td>\n",
       "      <td>3421 E Longview Ave, Bloomington</td>\n",
       "      <td>39.167896</td>\n",
       "      <td>-86.490136</td>\n",
       "      <td>4.5</td>\n",
       "      <td>51</td>\n",
       "      <td>park</td>\n",
       "    </tr>\n",
       "  </tbody>\n",
       "</table>\n",
       "</div>"
      ],
      "text/plain": [
       "                        Name                           Address        Lat  \\\n",
       "0  Waldron Hill Buskirk Park  331 S Washington St, Bloomington  39.163646   \n",
       "1             Southeast Park                       Bloomington  39.149039   \n",
       "2           Will Detmer Park   4140 W Vernal Pike, Bloomington  39.180009   \n",
       "3             Broadview Park      704 W Graham Dr, Bloomington  39.140268   \n",
       "4            Park Ridge Park  3421 E Longview Ave, Bloomington  39.167896   \n",
       "\n",
       "         Lng  Rating  User_ratings_total Category  \n",
       "0 -86.531772     4.3                  53     park  \n",
       "1 -86.504274     4.7                  72     park  \n",
       "2 -86.579601     4.5                 232     park  \n",
       "3 -86.541145     4.4                  34     park  \n",
       "4 -86.490136     4.5                  51     park  "
      ]
     },
     "execution_count": 9,
     "metadata": {},
     "output_type": "execute_result"
    }
   ],
   "source": [
    "df.head()"
   ]
  },
  {
   "cell_type": "code",
   "execution_count": 16,
   "id": "5e9badf6",
   "metadata": {},
   "outputs": [
    {
     "data": {
      "application/vnd.plotly.v1+json": {
       "config": {
        "plotlyServerURL": "https://plot.ly"
       },
       "data": [
        {
         "customdata": [
          [
           "Waldron Hill Buskirk Park",
           "331 S Washington St, Bloomington",
           4.3,
           53,
           "park"
          ],
          [
           "Southeast Park",
           "Bloomington",
           4.7,
           72,
           "park"
          ],
          [
           "Will Detmer Park",
           "4140 W Vernal Pike, Bloomington",
           4.5,
           232,
           "park"
          ],
          [
           "Broadview Park",
           "704 W Graham Dr, Bloomington",
           4.4,
           34,
           "park"
          ],
          [
           "Park Ridge Park",
           "3421 E Longview Ave, Bloomington",
           4.5,
           51,
           "park"
          ],
          [
           "Winslow Woods Park",
           "2301 S Highland Ave, Bloomington",
           4.5,
           57,
           "park"
          ],
          [
           "Building Trades Park",
           "619 W Howe St, Bloomington",
           4.3,
           126,
           "park"
          ],
          [
           "Crestmont Park",
           "1001 W 16th St, Bloomington",
           3.7,
           91,
           "park"
          ],
          [
           "Rev. Ernest D. Butler Park",
           "812 W 9th St, Bloomington",
           4.5,
           164,
           "park"
          ],
          [
           "Sherwood Oaks Park",
           "1600 E Elliston Dr, Bloomington",
           4.5,
           168,
           "park"
          ],
          [
           "Peoples Park",
           "501 E Kirkwood Ave, Bloomington",
           3.9,
           35,
           "park"
          ],
          [
           "Switchyard Park",
           "239 W Grimes Ln, Bloomington",
           5,
           3,
           "park"
          ],
          [
           "Campbells Park",
           "100 S Park St, Ellettsville",
           4.1,
           71,
           "park"
          ],
          [
           "Switchyard Park",
           "1601 S Rogers St, Bloomington",
           4.8,
           500,
           "park"
          ],
          [
           "Cathcart Park",
           "015-26695, 00, Bloomington",
           4.8,
           4,
           "park"
          ],
          [
           "Highland village park",
           "880-884, S Western Dr, Bloomington",
           4.3,
           38,
           "park"
          ],
          [
           "Park Ridge East Park",
           "4500 E Morningside Dr, Bloomington",
           4.5,
           99,
           "park"
          ],
          [
           "Monroe County Parks & Recreation",
           "501 N Morton St #100, Bloomington",
           4.3,
           7,
           "park"
          ],
          [
           "RCA Community Park Playground",
           "1400 W Rca Park Dr, Bloomington",
           4.5,
           177,
           "park"
          ],
          [
           "Lower Cascades Park",
           "2851 Old State Rd 37, Bloomington",
           4.7,
           649,
           "park"
          ]
         ],
         "hovertemplate": "<b>%{hovertext}</b><br><br>Category=%{customdata[4]}<br>Lat=%{lat}<br>Lng=%{lon}<br>Name=%{customdata[0]}<br>Address=%{customdata[1]}<br>Rating=%{customdata[2]}<br>User_ratings_total=%{customdata[3]}<extra></extra>",
         "hovertext": [
          "Waldron Hill Buskirk Park",
          "Southeast Park",
          "Will Detmer Park",
          "Broadview Park",
          "Park Ridge Park",
          "Winslow Woods Park",
          "Building Trades Park",
          "Crestmont Park",
          "Rev. Ernest D. Butler Park",
          "Sherwood Oaks Park",
          "Peoples Park",
          "Switchyard Park",
          "Campbells Park",
          "Switchyard Park",
          "Cathcart Park",
          "Highland village park",
          "Park Ridge East Park",
          "Monroe County Parks & Recreation",
          "RCA Community Park Playground",
          "Lower Cascades Park"
         ],
         "lat": [
          39.1636461,
          39.1490391,
          39.1800095,
          39.1402676,
          39.1678957,
          39.1416777,
          39.1619169,
          39.1773288,
          39.1711741,
          39.1295057,
          39.1667545,
          39.1521742,
          39.2281753,
          39.1477048,
          39.1467224,
          39.1583046,
          39.1670904,
          39.1703125,
          39.1450339,
          39.1978201
         ],
         "legendgroup": "park",
         "lon": [
          -86.53177199999999,
          -86.50427379999999,
          -86.5796009,
          -86.5411446,
          -86.49013599999999,
          -86.516767,
          -86.5408891,
          -86.54739219999999,
          -86.5429077,
          -86.51354049999999,
          -86.5279943,
          -86.53558559999999,
          -86.6197255,
          -86.53843739999999,
          -86.5018134,
          -86.5878865,
          -86.47433079999999,
          -86.53697389999999,
          -86.5459216,
          -86.5376592
         ],
         "marker": {
          "color": "#636efa"
         },
         "mode": "markers",
         "name": "park",
         "showlegend": true,
         "subplot": "mapbox",
         "type": "scattermapbox"
        },
        {
         "customdata": [
          [
           "Cheddar's Scratch Kitchen",
           "126 S Franklin Rd, Bloomington",
           4.2,
           2053,
           "restaurant"
          ],
          [
           "Cloverleaf Family Restaurant",
           "4023 W 3rd St, Bloomington",
           4.4,
           1114,
           "restaurant"
          ],
          [
           "Dats",
           "408 E 4th St, Bloomington",
           4.1,
           292,
           "restaurant"
          ],
          [
           "The Elm Restaurant",
           "614 E 2nd St, Bloomington",
           4.7,
           73,
           "restaurant"
          ],
          [
           "O'Charley's Restaurant & Bar",
           "360 N Jacob Dr, Bloomington",
           4.1,
           1322,
           "restaurant"
          ],
          [
           "Yogi's",
           "302 N Walnut St, Bloomington",
           3.9,
           252,
           "restaurant"
          ],
          [
           "Hive",
           "2608 E 10th St, Bloomington",
           4.3,
           291,
           "restaurant"
          ],
          [
           "Feta",
           "600 E Hillside Dr, Bloomington",
           4.5,
           276,
           "restaurant"
          ],
          [
           "SmokeWorks",
           "121 N College Ave, Bloomington",
           4.2,
           392,
           "restaurant"
          ],
          [
           "Southern Stone",
           "405 W Patterson Dr, Bloomington",
           4.1,
           645,
           "restaurant"
          ],
          [
           "Social Cantina",
           "125 N College Ave, Bloomington",
           4.3,
           896,
           "restaurant"
          ],
          [
           "Chubbies Diner",
           "118 E Kirkwood Ave, Bloomington",
           4.2,
           21,
           "restaurant"
          ],
          [
           "Big Woods Bloomington",
           "116 N Grant St, Bloomington",
           4.4,
           944,
           "restaurant"
          ],
          [
           "Restaurant Ami",
           "1500 E 3rd St, Bloomington",
           4.4,
           546,
           "restaurant"
          ],
          [
           "Juannita's",
           "620 W Kirkwood Ave, Bloomington",
           4,
           719,
           "restaurant"
          ],
          [
           "Burma Garden Restaurant (Mandalay)",
           "413 E 4th St, Bloomington",
           4.7,
           181,
           "restaurant"
          ],
          [
           "Applebee's Grill + Bar",
           "2800 E 3rd St, Bloomington",
           4.1,
           823,
           "restaurant"
          ],
          [
           "Cloverleaf South Restaurant",
           "325 E Winslow Rd, Bloomington",
           4.6,
           750,
           "restaurant"
          ],
          [
           "Bob Evans",
           "3233 W 3rd St, Bloomington",
           3.7,
           887,
           "restaurant"
          ],
          [
           "My Thai Cafe & Sushi Bar",
           "3316 W 3rd St, Bloomington",
           4.5,
           576,
           "restaurant"
          ]
         ],
         "hovertemplate": "<b>%{hovertext}</b><br><br>Category=%{customdata[4]}<br>Lat=%{lat}<br>Lng=%{lon}<br>Name=%{customdata[0]}<br>Address=%{customdata[1]}<br>Rating=%{customdata[2]}<br>User_ratings_total=%{customdata[3]}<extra></extra>",
         "hovertext": [
          "Cheddar's Scratch Kitchen",
          "Cloverleaf Family Restaurant",
          "Dats",
          "The Elm Restaurant",
          "O'Charley's Restaurant & Bar",
          "Yogi's",
          "Hive",
          "Feta",
          "SmokeWorks",
          "Southern Stone",
          "Social Cantina",
          "Chubbies Diner",
          "Big Woods Bloomington",
          "Restaurant Ami",
          "Juannita's",
          "Burma Garden Restaurant (Mandalay)",
          "Applebee's Grill + Bar",
          "Cloverleaf South Restaurant",
          "Bob Evans",
          "My Thai Cafe & Sushi Bar"
         ],
         "lat": [
          39.1660547,
          39.1641239,
          39.1653297,
          39.1611434,
          39.1702133,
          39.1688417,
          39.1708491,
          39.1504163,
          39.1673295,
          39.1535466,
          39.1674315,
          39.1662875,
          39.1671132,
          39.164133,
          39.1668263,
          39.1656855,
          39.16194309999999,
          39.13736129999999,
          39.1639841,
          39.1654524
         ],
         "legendgroup": "restaurant",
         "lon": [
          -86.5714665,
          -86.5841552,
          -86.52928399999999,
          -86.52629759999999,
          -86.57192189999999,
          -86.53342909999999,
          -86.5011737,
          -86.52669329999999,
          -86.5350301,
          -86.53847239999999,
          -86.53503049999999,
          -86.53276869999999,
          -86.5297008,
          -86.51513109999999,
          -86.5406788,
          -86.5291029,
          -86.49667579999999,
          -86.5257596,
          -86.5758537,
          -86.57658459999999
         ],
         "marker": {
          "color": "#EF553B"
         },
         "mode": "markers",
         "name": "restaurant",
         "showlegend": true,
         "subplot": "mapbox",
         "type": "scattermapbox"
        },
        {
         "customdata": [
          [
           "Soma Coffeehouse and Juice Bar",
           "322 E Kirkwood Ave, Bloomington",
           4.5,
           455,
           "coffee shop"
          ],
          [
           "Brilliant Coffee Company",
           "217 W 6th St, Bloomington",
           4.8,
           106,
           "coffee shop"
          ],
          [
           "Crumble Coffee and Bakery",
           "1567 S Piazza Dr, Bloomington",
           4.6,
           228,
           "coffee shop"
          ],
          [
           "Hopscotch Coffee",
           "235 W Dodds St #102, Bloomington",
           4.6,
           586,
           "coffee shop"
          ],
          [
           "Poindexter Coffee",
           "210 E Kirkwood Ave, Bloomington",
           4.4,
           59,
           "coffee shop"
          ],
          [
           "Needmore Coffee Roasters",
           "104 N Pete Ellis Dr Suite E, Bloomington",
           4.6,
           317,
           "coffee shop"
          ],
          [
           "Starbucks",
           "284 North Jacob Drive, W Whitehall Crossing Blvd, Bloomington",
           4,
           746,
           "coffee shop"
          ],
          [
           "Crumble Coffee and Bakery",
           "532 N College Ave, Bloomington",
           4.6,
           262,
           "coffee shop"
          ],
          [
           "Hopscotch Coffee Roastery / To-Go",
           "212 N Madison St, Bloomington",
           4.6,
           129,
           "coffee shop"
          ],
          [
           "Soma Coffee House And Juice Bar East",
           "1400 E 3rd St, Bloomington",
           4.4,
           305,
           "coffee shop"
          ],
          [
           "Americano",
           "5492 IN-46, Bloomington",
           4.7,
           115,
           "coffee shop"
          ],
          [
           "Soma Coffee House & Juice Bar",
           "581 E Hillside Dr Suite104, Bloomington",
           4.5,
           63,
           "coffee shop"
          ],
          [
           "Verona Coffee House",
           "3105 S Sare Rd suite 101, Bloomington",
           5,
           32,
           "coffee shop"
          ],
          [
           "The Inkwell Bakery & Cafe",
           "401 S Woodlawn Ave, Bloomington",
           4.7,
           18,
           "coffee shop"
          ],
          [
           "Starbucks",
           "110 S Indiana Ave, Bloomington",
           4.3,
           278,
           "coffee shop"
          ],
          [
           "Crumble Coffee and Bakery",
           "316 S Swain Ave, Bloomington",
           5,
           2,
           "coffee shop"
          ],
          [
           "Starbucks",
           "2105 Liberty Dr, Bloomington",
           4.1,
           12,
           "coffee shop"
          ],
          [
           "The Caffeinated Cook",
           "206 N Sale St, Ellettsville",
           4.9,
           29,
           "coffee shop"
          ],
          [
           "Starbucks",
           "2966 E 3rd St, Bloomington",
           3.2,
           29,
           "coffee shop"
          ],
          [
           "Starbucks",
           "1921 S Walnut St, Bloomington",
           4.2,
           556,
           "coffee shop"
          ]
         ],
         "hovertemplate": "<b>%{hovertext}</b><br><br>Category=%{customdata[4]}<br>Lat=%{lat}<br>Lng=%{lon}<br>Name=%{customdata[0]}<br>Address=%{customdata[1]}<br>Rating=%{customdata[2]}<br>User_ratings_total=%{customdata[3]}<extra></extra>",
         "hovertext": [
          "Soma Coffeehouse and Juice Bar",
          "Brilliant Coffee Company",
          "Crumble Coffee and Bakery",
          "Hopscotch Coffee",
          "Poindexter Coffee",
          "Needmore Coffee Roasters",
          "Starbucks",
          "Crumble Coffee and Bakery",
          "Hopscotch Coffee Roastery / To-Go",
          "Soma Coffee House And Juice Bar East",
          "Americano",
          "Soma Coffee House & Juice Bar",
          "Verona Coffee House",
          "The Inkwell Bakery & Cafe",
          "Starbucks",
          "Crumble Coffee and Bakery",
          "Starbucks",
          "The Caffeinated Cook",
          "Starbucks",
          "Starbucks"
         ],
         "lat": [
          39.166225,
          39.1673509,
          39.1491064,
          39.1571654,
          39.166355,
          39.16705169999999,
          39.1685239,
          39.1714796,
          39.168136,
          39.163836,
          39.2212336,
          39.1507565,
          39.1334204,
          39.1630274,
          39.16613,
          39.1634392,
          39.1461,
          39.234411,
          39.1620696,
          39.145471
         ],
         "legendgroup": "coffee shop",
         "lon": [
          -86.5300472,
          -86.53578329999999,
          -86.49965019999999,
          -86.5360685,
          -86.5311943,
          -86.49448199999999,
          -86.5731289,
          -86.53468819999999,
          -86.53717220000001,
          -86.51626499999999,
          -86.6050759,
          -86.5271094,
          -86.4976251,
          -86.5224901,
          -86.527074,
          -86.5156897,
          -86.57723999999999,
          -86.62386699999999,
          -86.494209,
          -86.53172599999999
         ],
         "marker": {
          "color": "#00cc96"
         },
         "mode": "markers",
         "name": "coffee shop",
         "showlegend": true,
         "subplot": "mapbox",
         "type": "scattermapbox"
        },
        {
         "customdata": [
          [
           "Wylie House Museum",
           "307 E 2nd St, Bloomington",
           4.8,
           37,
           "museum"
          ],
          [
           "The Farmer House Museum",
           "529 N College Ave, Bloomington",
           3,
           11,
           "museum"
          ],
          [
           "Eskenazi Museum of Art",
           "Eskenazi Museum of Art, 1133 E 7th St, Bloomington",
           4.6,
           93,
           "museum"
          ],
          [
           "Monroe County History Center",
           "202 E 6th St, Bloomington",
           4.5,
           60,
           "museum"
          ],
          [
           "WonderLab Science Museum",
           "308 W 4th St, Bloomington",
           4.8,
           739,
           "museum"
          ],
          [
           "IU Museum of Archaeology and Anthropology",
           "416 N Indiana Ave, Bloomington",
           0,
           0,
           "museum"
          ],
          [
           "Museum of the Person USA",
           "1905 N Range Rd, Bloomington",
           0,
           0,
           "museum"
          ],
          [
           "Grunwald Gallery of Art",
           "Fine Arts Building, 1201 E 7th St, Bloomington",
           4.6,
           12,
           "museum"
          ],
          [
           "Ellettsville Old Town Hall History Center",
           "Town Council, 221 N Sale St, Ellettsville",
           0,
           0,
           "museum"
          ]
         ],
         "hovertemplate": "<b>%{hovertext}</b><br><br>Category=%{customdata[4]}<br>Lat=%{lat}<br>Lng=%{lon}<br>Name=%{customdata[0]}<br>Address=%{customdata[1]}<br>Rating=%{customdata[2]}<br>User_ratings_total=%{customdata[3]}<extra></extra>",
         "hovertext": [
          "Wylie House Museum",
          "The Farmer House Museum",
          "Eskenazi Museum of Art",
          "Monroe County History Center",
          "WonderLab Science Museum",
          "IU Museum of Archaeology and Anthropology",
          "Museum of the Person USA",
          "Grunwald Gallery of Art",
          "Ellettsville Old Town Hall History Center"
         ],
         "lat": [
          39.1616659,
          39.1713544,
          39.169186,
          39.1671964,
          39.1659081,
          39.1700344,
          39.1748229,
          39.1688637,
          39.2348916
         ],
         "legendgroup": "museum",
         "lon": [
          -86.5308769,
          -86.5349519,
          -86.51975809999999,
          -86.5319401,
          -86.5366466,
          -86.5262383,
          -86.49959869999999,
          -86.51897489999999,
          -86.6235923
         ],
         "marker": {
          "color": "#ab63fa"
         },
         "mode": "markers",
         "name": "museum",
         "showlegend": true,
         "subplot": "mapbox",
         "type": "scattermapbox"
        }
       ],
       "layout": {
        "height": 300,
        "legend": {
         "title": {
          "text": "Category"
         },
         "tracegroupgap": 0
        },
        "mapbox": {
         "center": {
          "lat": 39.16582365217392,
          "lon": -86.53656704492754
         },
         "domain": {
          "x": [
           0,
           1
          ],
          "y": [
           0,
           1
          ]
         },
         "style": "open-street-map",
         "zoom": 10
        },
        "margin": {
         "b": 0,
         "l": 0,
         "r": 0,
         "t": 0
        },
        "template": {
         "data": {
          "bar": [
           {
            "error_x": {
             "color": "#2a3f5f"
            },
            "error_y": {
             "color": "#2a3f5f"
            },
            "marker": {
             "line": {
              "color": "#E5ECF6",
              "width": 0.5
             },
             "pattern": {
              "fillmode": "overlay",
              "size": 10,
              "solidity": 0.2
             }
            },
            "type": "bar"
           }
          ],
          "barpolar": [
           {
            "marker": {
             "line": {
              "color": "#E5ECF6",
              "width": 0.5
             },
             "pattern": {
              "fillmode": "overlay",
              "size": 10,
              "solidity": 0.2
             }
            },
            "type": "barpolar"
           }
          ],
          "carpet": [
           {
            "aaxis": {
             "endlinecolor": "#2a3f5f",
             "gridcolor": "white",
             "linecolor": "white",
             "minorgridcolor": "white",
             "startlinecolor": "#2a3f5f"
            },
            "baxis": {
             "endlinecolor": "#2a3f5f",
             "gridcolor": "white",
             "linecolor": "white",
             "minorgridcolor": "white",
             "startlinecolor": "#2a3f5f"
            },
            "type": "carpet"
           }
          ],
          "choropleth": [
           {
            "colorbar": {
             "outlinewidth": 0,
             "ticks": ""
            },
            "type": "choropleth"
           }
          ],
          "contour": [
           {
            "colorbar": {
             "outlinewidth": 0,
             "ticks": ""
            },
            "colorscale": [
             [
              0,
              "#0d0887"
             ],
             [
              0.1111111111111111,
              "#46039f"
             ],
             [
              0.2222222222222222,
              "#7201a8"
             ],
             [
              0.3333333333333333,
              "#9c179e"
             ],
             [
              0.4444444444444444,
              "#bd3786"
             ],
             [
              0.5555555555555556,
              "#d8576b"
             ],
             [
              0.6666666666666666,
              "#ed7953"
             ],
             [
              0.7777777777777778,
              "#fb9f3a"
             ],
             [
              0.8888888888888888,
              "#fdca26"
             ],
             [
              1,
              "#f0f921"
             ]
            ],
            "type": "contour"
           }
          ],
          "contourcarpet": [
           {
            "colorbar": {
             "outlinewidth": 0,
             "ticks": ""
            },
            "type": "contourcarpet"
           }
          ],
          "heatmap": [
           {
            "colorbar": {
             "outlinewidth": 0,
             "ticks": ""
            },
            "colorscale": [
             [
              0,
              "#0d0887"
             ],
             [
              0.1111111111111111,
              "#46039f"
             ],
             [
              0.2222222222222222,
              "#7201a8"
             ],
             [
              0.3333333333333333,
              "#9c179e"
             ],
             [
              0.4444444444444444,
              "#bd3786"
             ],
             [
              0.5555555555555556,
              "#d8576b"
             ],
             [
              0.6666666666666666,
              "#ed7953"
             ],
             [
              0.7777777777777778,
              "#fb9f3a"
             ],
             [
              0.8888888888888888,
              "#fdca26"
             ],
             [
              1,
              "#f0f921"
             ]
            ],
            "type": "heatmap"
           }
          ],
          "heatmapgl": [
           {
            "colorbar": {
             "outlinewidth": 0,
             "ticks": ""
            },
            "colorscale": [
             [
              0,
              "#0d0887"
             ],
             [
              0.1111111111111111,
              "#46039f"
             ],
             [
              0.2222222222222222,
              "#7201a8"
             ],
             [
              0.3333333333333333,
              "#9c179e"
             ],
             [
              0.4444444444444444,
              "#bd3786"
             ],
             [
              0.5555555555555556,
              "#d8576b"
             ],
             [
              0.6666666666666666,
              "#ed7953"
             ],
             [
              0.7777777777777778,
              "#fb9f3a"
             ],
             [
              0.8888888888888888,
              "#fdca26"
             ],
             [
              1,
              "#f0f921"
             ]
            ],
            "type": "heatmapgl"
           }
          ],
          "histogram": [
           {
            "marker": {
             "pattern": {
              "fillmode": "overlay",
              "size": 10,
              "solidity": 0.2
             }
            },
            "type": "histogram"
           }
          ],
          "histogram2d": [
           {
            "colorbar": {
             "outlinewidth": 0,
             "ticks": ""
            },
            "colorscale": [
             [
              0,
              "#0d0887"
             ],
             [
              0.1111111111111111,
              "#46039f"
             ],
             [
              0.2222222222222222,
              "#7201a8"
             ],
             [
              0.3333333333333333,
              "#9c179e"
             ],
             [
              0.4444444444444444,
              "#bd3786"
             ],
             [
              0.5555555555555556,
              "#d8576b"
             ],
             [
              0.6666666666666666,
              "#ed7953"
             ],
             [
              0.7777777777777778,
              "#fb9f3a"
             ],
             [
              0.8888888888888888,
              "#fdca26"
             ],
             [
              1,
              "#f0f921"
             ]
            ],
            "type": "histogram2d"
           }
          ],
          "histogram2dcontour": [
           {
            "colorbar": {
             "outlinewidth": 0,
             "ticks": ""
            },
            "colorscale": [
             [
              0,
              "#0d0887"
             ],
             [
              0.1111111111111111,
              "#46039f"
             ],
             [
              0.2222222222222222,
              "#7201a8"
             ],
             [
              0.3333333333333333,
              "#9c179e"
             ],
             [
              0.4444444444444444,
              "#bd3786"
             ],
             [
              0.5555555555555556,
              "#d8576b"
             ],
             [
              0.6666666666666666,
              "#ed7953"
             ],
             [
              0.7777777777777778,
              "#fb9f3a"
             ],
             [
              0.8888888888888888,
              "#fdca26"
             ],
             [
              1,
              "#f0f921"
             ]
            ],
            "type": "histogram2dcontour"
           }
          ],
          "mesh3d": [
           {
            "colorbar": {
             "outlinewidth": 0,
             "ticks": ""
            },
            "type": "mesh3d"
           }
          ],
          "parcoords": [
           {
            "line": {
             "colorbar": {
              "outlinewidth": 0,
              "ticks": ""
             }
            },
            "type": "parcoords"
           }
          ],
          "pie": [
           {
            "automargin": true,
            "type": "pie"
           }
          ],
          "scatter": [
           {
            "marker": {
             "colorbar": {
              "outlinewidth": 0,
              "ticks": ""
             }
            },
            "type": "scatter"
           }
          ],
          "scatter3d": [
           {
            "line": {
             "colorbar": {
              "outlinewidth": 0,
              "ticks": ""
             }
            },
            "marker": {
             "colorbar": {
              "outlinewidth": 0,
              "ticks": ""
             }
            },
            "type": "scatter3d"
           }
          ],
          "scattercarpet": [
           {
            "marker": {
             "colorbar": {
              "outlinewidth": 0,
              "ticks": ""
             }
            },
            "type": "scattercarpet"
           }
          ],
          "scattergeo": [
           {
            "marker": {
             "colorbar": {
              "outlinewidth": 0,
              "ticks": ""
             }
            },
            "type": "scattergeo"
           }
          ],
          "scattergl": [
           {
            "marker": {
             "colorbar": {
              "outlinewidth": 0,
              "ticks": ""
             }
            },
            "type": "scattergl"
           }
          ],
          "scattermapbox": [
           {
            "marker": {
             "colorbar": {
              "outlinewidth": 0,
              "ticks": ""
             }
            },
            "type": "scattermapbox"
           }
          ],
          "scatterpolar": [
           {
            "marker": {
             "colorbar": {
              "outlinewidth": 0,
              "ticks": ""
             }
            },
            "type": "scatterpolar"
           }
          ],
          "scatterpolargl": [
           {
            "marker": {
             "colorbar": {
              "outlinewidth": 0,
              "ticks": ""
             }
            },
            "type": "scatterpolargl"
           }
          ],
          "scatterternary": [
           {
            "marker": {
             "colorbar": {
              "outlinewidth": 0,
              "ticks": ""
             }
            },
            "type": "scatterternary"
           }
          ],
          "surface": [
           {
            "colorbar": {
             "outlinewidth": 0,
             "ticks": ""
            },
            "colorscale": [
             [
              0,
              "#0d0887"
             ],
             [
              0.1111111111111111,
              "#46039f"
             ],
             [
              0.2222222222222222,
              "#7201a8"
             ],
             [
              0.3333333333333333,
              "#9c179e"
             ],
             [
              0.4444444444444444,
              "#bd3786"
             ],
             [
              0.5555555555555556,
              "#d8576b"
             ],
             [
              0.6666666666666666,
              "#ed7953"
             ],
             [
              0.7777777777777778,
              "#fb9f3a"
             ],
             [
              0.8888888888888888,
              "#fdca26"
             ],
             [
              1,
              "#f0f921"
             ]
            ],
            "type": "surface"
           }
          ],
          "table": [
           {
            "cells": {
             "fill": {
              "color": "#EBF0F8"
             },
             "line": {
              "color": "white"
             }
            },
            "header": {
             "fill": {
              "color": "#C8D4E3"
             },
             "line": {
              "color": "white"
             }
            },
            "type": "table"
           }
          ]
         },
         "layout": {
          "annotationdefaults": {
           "arrowcolor": "#2a3f5f",
           "arrowhead": 0,
           "arrowwidth": 1
          },
          "autotypenumbers": "strict",
          "coloraxis": {
           "colorbar": {
            "outlinewidth": 0,
            "ticks": ""
           }
          },
          "colorscale": {
           "diverging": [
            [
             0,
             "#8e0152"
            ],
            [
             0.1,
             "#c51b7d"
            ],
            [
             0.2,
             "#de77ae"
            ],
            [
             0.3,
             "#f1b6da"
            ],
            [
             0.4,
             "#fde0ef"
            ],
            [
             0.5,
             "#f7f7f7"
            ],
            [
             0.6,
             "#e6f5d0"
            ],
            [
             0.7,
             "#b8e186"
            ],
            [
             0.8,
             "#7fbc41"
            ],
            [
             0.9,
             "#4d9221"
            ],
            [
             1,
             "#276419"
            ]
           ],
           "sequential": [
            [
             0,
             "#0d0887"
            ],
            [
             0.1111111111111111,
             "#46039f"
            ],
            [
             0.2222222222222222,
             "#7201a8"
            ],
            [
             0.3333333333333333,
             "#9c179e"
            ],
            [
             0.4444444444444444,
             "#bd3786"
            ],
            [
             0.5555555555555556,
             "#d8576b"
            ],
            [
             0.6666666666666666,
             "#ed7953"
            ],
            [
             0.7777777777777778,
             "#fb9f3a"
            ],
            [
             0.8888888888888888,
             "#fdca26"
            ],
            [
             1,
             "#f0f921"
            ]
           ],
           "sequentialminus": [
            [
             0,
             "#0d0887"
            ],
            [
             0.1111111111111111,
             "#46039f"
            ],
            [
             0.2222222222222222,
             "#7201a8"
            ],
            [
             0.3333333333333333,
             "#9c179e"
            ],
            [
             0.4444444444444444,
             "#bd3786"
            ],
            [
             0.5555555555555556,
             "#d8576b"
            ],
            [
             0.6666666666666666,
             "#ed7953"
            ],
            [
             0.7777777777777778,
             "#fb9f3a"
            ],
            [
             0.8888888888888888,
             "#fdca26"
            ],
            [
             1,
             "#f0f921"
            ]
           ]
          },
          "colorway": [
           "#636efa",
           "#EF553B",
           "#00cc96",
           "#ab63fa",
           "#FFA15A",
           "#19d3f3",
           "#FF6692",
           "#B6E880",
           "#FF97FF",
           "#FECB52"
          ],
          "font": {
           "color": "#2a3f5f"
          },
          "geo": {
           "bgcolor": "white",
           "lakecolor": "white",
           "landcolor": "#E5ECF6",
           "showlakes": true,
           "showland": true,
           "subunitcolor": "white"
          },
          "hoverlabel": {
           "align": "left"
          },
          "hovermode": "closest",
          "mapbox": {
           "style": "light"
          },
          "paper_bgcolor": "white",
          "plot_bgcolor": "#E5ECF6",
          "polar": {
           "angularaxis": {
            "gridcolor": "white",
            "linecolor": "white",
            "ticks": ""
           },
           "bgcolor": "#E5ECF6",
           "radialaxis": {
            "gridcolor": "white",
            "linecolor": "white",
            "ticks": ""
           }
          },
          "scene": {
           "xaxis": {
            "backgroundcolor": "#E5ECF6",
            "gridcolor": "white",
            "gridwidth": 2,
            "linecolor": "white",
            "showbackground": true,
            "ticks": "",
            "zerolinecolor": "white"
           },
           "yaxis": {
            "backgroundcolor": "#E5ECF6",
            "gridcolor": "white",
            "gridwidth": 2,
            "linecolor": "white",
            "showbackground": true,
            "ticks": "",
            "zerolinecolor": "white"
           },
           "zaxis": {
            "backgroundcolor": "#E5ECF6",
            "gridcolor": "white",
            "gridwidth": 2,
            "linecolor": "white",
            "showbackground": true,
            "ticks": "",
            "zerolinecolor": "white"
           }
          },
          "shapedefaults": {
           "line": {
            "color": "#2a3f5f"
           }
          },
          "ternary": {
           "aaxis": {
            "gridcolor": "white",
            "linecolor": "white",
            "ticks": ""
           },
           "baxis": {
            "gridcolor": "white",
            "linecolor": "white",
            "ticks": ""
           },
           "bgcolor": "#E5ECF6",
           "caxis": {
            "gridcolor": "white",
            "linecolor": "white",
            "ticks": ""
           }
          },
          "title": {
           "x": 0.05
          },
          "xaxis": {
           "automargin": true,
           "gridcolor": "white",
           "linecolor": "white",
           "ticks": "",
           "title": {
            "standoff": 15
           },
           "zerolinecolor": "white",
           "zerolinewidth": 2
          },
          "yaxis": {
           "automargin": true,
           "gridcolor": "white",
           "linecolor": "white",
           "ticks": "",
           "title": {
            "standoff": 15
           },
           "zerolinecolor": "white",
           "zerolinewidth": 2
          }
         }
        }
       }
      },
      "text/html": [
       "<div>                            <div id=\"2419f3c2-2d57-47db-ad28-ddccff9a05c8\" class=\"plotly-graph-div\" style=\"height:300px; width:100%;\"></div>            <script type=\"text/javascript\">                require([\"plotly\"], function(Plotly) {                    window.PLOTLYENV=window.PLOTLYENV || {};                                    if (document.getElementById(\"2419f3c2-2d57-47db-ad28-ddccff9a05c8\")) {                    Plotly.newPlot(                        \"2419f3c2-2d57-47db-ad28-ddccff9a05c8\",                        [{\"customdata\":[[\"Waldron Hill Buskirk Park\",\"331 S Washington St, Bloomington\",4.3,53,\"park\"],[\"Southeast Park\",\"Bloomington\",4.7,72,\"park\"],[\"Will Detmer Park\",\"4140 W Vernal Pike, Bloomington\",4.5,232,\"park\"],[\"Broadview Park\",\"704 W Graham Dr, Bloomington\",4.4,34,\"park\"],[\"Park Ridge Park\",\"3421 E Longview Ave, Bloomington\",4.5,51,\"park\"],[\"Winslow Woods Park\",\"2301 S Highland Ave, Bloomington\",4.5,57,\"park\"],[\"Building Trades Park\",\"619 W Howe St, Bloomington\",4.3,126,\"park\"],[\"Crestmont Park\",\"1001 W 16th St, Bloomington\",3.7,91,\"park\"],[\"Rev. Ernest D. Butler Park\",\"812 W 9th St, Bloomington\",4.5,164,\"park\"],[\"Sherwood Oaks Park\",\"1600 E Elliston Dr, Bloomington\",4.5,168,\"park\"],[\"Peoples Park\",\"501 E Kirkwood Ave, Bloomington\",3.9,35,\"park\"],[\"Switchyard Park\",\"239 W Grimes Ln, Bloomington\",5.0,3,\"park\"],[\"Campbells Park\",\"100 S Park St, Ellettsville\",4.1,71,\"park\"],[\"Switchyard Park\",\"1601 S Rogers St, Bloomington\",4.8,500,\"park\"],[\"Cathcart Park\",\"015-26695, 00, Bloomington\",4.8,4,\"park\"],[\"Highland village park\",\"880-884, S Western Dr, Bloomington\",4.3,38,\"park\"],[\"Park Ridge East Park\",\"4500 E Morningside Dr, Bloomington\",4.5,99,\"park\"],[\"Monroe County Parks & Recreation\",\"501 N Morton St #100, Bloomington\",4.3,7,\"park\"],[\"RCA Community Park Playground\",\"1400 W Rca Park Dr, Bloomington\",4.5,177,\"park\"],[\"Lower Cascades Park\",\"2851 Old State Rd 37, Bloomington\",4.7,649,\"park\"]],\"hovertemplate\":\"<b>%{hovertext}</b><br><br>Category=%{customdata[4]}<br>Lat=%{lat}<br>Lng=%{lon}<br>Name=%{customdata[0]}<br>Address=%{customdata[1]}<br>Rating=%{customdata[2]}<br>User_ratings_total=%{customdata[3]}<extra></extra>\",\"hovertext\":[\"Waldron Hill Buskirk Park\",\"Southeast Park\",\"Will Detmer Park\",\"Broadview Park\",\"Park Ridge Park\",\"Winslow Woods Park\",\"Building Trades Park\",\"Crestmont Park\",\"Rev. Ernest D. Butler Park\",\"Sherwood Oaks Park\",\"Peoples Park\",\"Switchyard Park\",\"Campbells Park\",\"Switchyard Park\",\"Cathcart Park\",\"Highland village park\",\"Park Ridge East Park\",\"Monroe County Parks & Recreation\",\"RCA Community Park Playground\",\"Lower Cascades Park\"],\"lat\":[39.1636461,39.1490391,39.1800095,39.1402676,39.1678957,39.1416777,39.1619169,39.1773288,39.1711741,39.1295057,39.1667545,39.1521742,39.2281753,39.1477048,39.1467224,39.1583046,39.1670904,39.1703125,39.1450339,39.1978201],\"legendgroup\":\"park\",\"lon\":[-86.53177199999999,-86.50427379999999,-86.5796009,-86.5411446,-86.49013599999999,-86.516767,-86.5408891,-86.54739219999999,-86.5429077,-86.51354049999999,-86.5279943,-86.53558559999999,-86.6197255,-86.53843739999999,-86.5018134,-86.5878865,-86.47433079999999,-86.53697389999999,-86.5459216,-86.5376592],\"marker\":{\"color\":\"#636efa\"},\"mode\":\"markers\",\"name\":\"park\",\"showlegend\":true,\"subplot\":\"mapbox\",\"type\":\"scattermapbox\"},{\"customdata\":[[\"Cheddar's Scratch Kitchen\",\"126 S Franklin Rd, Bloomington\",4.2,2053,\"restaurant\"],[\"Cloverleaf Family Restaurant\",\"4023 W 3rd St, Bloomington\",4.4,1114,\"restaurant\"],[\"Dats\",\"408 E 4th St, Bloomington\",4.1,292,\"restaurant\"],[\"The Elm Restaurant\",\"614 E 2nd St, Bloomington\",4.7,73,\"restaurant\"],[\"O'Charley's Restaurant & Bar\",\"360 N Jacob Dr, Bloomington\",4.1,1322,\"restaurant\"],[\"Yogi's\",\"302 N Walnut St, Bloomington\",3.9,252,\"restaurant\"],[\"Hive\",\"2608 E 10th St, Bloomington\",4.3,291,\"restaurant\"],[\"Feta\",\"600 E Hillside Dr, Bloomington\",4.5,276,\"restaurant\"],[\"SmokeWorks\",\"121 N College Ave, Bloomington\",4.2,392,\"restaurant\"],[\"Southern Stone\",\"405 W Patterson Dr, Bloomington\",4.1,645,\"restaurant\"],[\"Social Cantina\",\"125 N College Ave, Bloomington\",4.3,896,\"restaurant\"],[\"Chubbies Diner\",\"118 E Kirkwood Ave, Bloomington\",4.2,21,\"restaurant\"],[\"Big Woods Bloomington\",\"116 N Grant St, Bloomington\",4.4,944,\"restaurant\"],[\"Restaurant Ami\",\"1500 E 3rd St, Bloomington\",4.4,546,\"restaurant\"],[\"Juannita's\",\"620 W Kirkwood Ave, Bloomington\",4.0,719,\"restaurant\"],[\"Burma Garden Restaurant (Mandalay)\",\"413 E 4th St, Bloomington\",4.7,181,\"restaurant\"],[\"Applebee's Grill + Bar\",\"2800 E 3rd St, Bloomington\",4.1,823,\"restaurant\"],[\"Cloverleaf South Restaurant\",\"325 E Winslow Rd, Bloomington\",4.6,750,\"restaurant\"],[\"Bob Evans\",\"3233 W 3rd St, Bloomington\",3.7,887,\"restaurant\"],[\"My Thai Cafe & Sushi Bar\",\"3316 W 3rd St, Bloomington\",4.5,576,\"restaurant\"]],\"hovertemplate\":\"<b>%{hovertext}</b><br><br>Category=%{customdata[4]}<br>Lat=%{lat}<br>Lng=%{lon}<br>Name=%{customdata[0]}<br>Address=%{customdata[1]}<br>Rating=%{customdata[2]}<br>User_ratings_total=%{customdata[3]}<extra></extra>\",\"hovertext\":[\"Cheddar's Scratch Kitchen\",\"Cloverleaf Family Restaurant\",\"Dats\",\"The Elm Restaurant\",\"O'Charley's Restaurant & Bar\",\"Yogi's\",\"Hive\",\"Feta\",\"SmokeWorks\",\"Southern Stone\",\"Social Cantina\",\"Chubbies Diner\",\"Big Woods Bloomington\",\"Restaurant Ami\",\"Juannita's\",\"Burma Garden Restaurant (Mandalay)\",\"Applebee's Grill + Bar\",\"Cloverleaf South Restaurant\",\"Bob Evans\",\"My Thai Cafe & Sushi Bar\"],\"lat\":[39.1660547,39.1641239,39.1653297,39.1611434,39.1702133,39.1688417,39.1708491,39.1504163,39.1673295,39.1535466,39.1674315,39.1662875,39.1671132,39.164133,39.1668263,39.1656855,39.16194309999999,39.13736129999999,39.1639841,39.1654524],\"legendgroup\":\"restaurant\",\"lon\":[-86.5714665,-86.5841552,-86.52928399999999,-86.52629759999999,-86.57192189999999,-86.53342909999999,-86.5011737,-86.52669329999999,-86.5350301,-86.53847239999999,-86.53503049999999,-86.53276869999999,-86.5297008,-86.51513109999999,-86.5406788,-86.5291029,-86.49667579999999,-86.5257596,-86.5758537,-86.57658459999999],\"marker\":{\"color\":\"#EF553B\"},\"mode\":\"markers\",\"name\":\"restaurant\",\"showlegend\":true,\"subplot\":\"mapbox\",\"type\":\"scattermapbox\"},{\"customdata\":[[\"Soma Coffeehouse and Juice Bar\",\"322 E Kirkwood Ave, Bloomington\",4.5,455,\"coffee shop\"],[\"Brilliant Coffee Company\",\"217 W 6th St, Bloomington\",4.8,106,\"coffee shop\"],[\"Crumble Coffee and Bakery\",\"1567 S Piazza Dr, Bloomington\",4.6,228,\"coffee shop\"],[\"Hopscotch Coffee\",\"235 W Dodds St #102, Bloomington\",4.6,586,\"coffee shop\"],[\"Poindexter Coffee\",\"210 E Kirkwood Ave, Bloomington\",4.4,59,\"coffee shop\"],[\"Needmore Coffee Roasters\",\"104 N Pete Ellis Dr Suite E, Bloomington\",4.6,317,\"coffee shop\"],[\"Starbucks\",\"284 North Jacob Drive, W Whitehall Crossing Blvd, Bloomington\",4.0,746,\"coffee shop\"],[\"Crumble Coffee and Bakery\",\"532 N College Ave, Bloomington\",4.6,262,\"coffee shop\"],[\"Hopscotch Coffee Roastery / To-Go\",\"212 N Madison St, Bloomington\",4.6,129,\"coffee shop\"],[\"Soma Coffee House And Juice Bar East\",\"1400 E 3rd St, Bloomington\",4.4,305,\"coffee shop\"],[\"Americano\",\"5492 IN-46, Bloomington\",4.7,115,\"coffee shop\"],[\"Soma Coffee House & Juice Bar\",\"581 E Hillside Dr Suite104, Bloomington\",4.5,63,\"coffee shop\"],[\"Verona Coffee House\",\"3105 S Sare Rd suite 101, Bloomington\",5.0,32,\"coffee shop\"],[\"The Inkwell Bakery & Cafe\",\"401 S Woodlawn Ave, Bloomington\",4.7,18,\"coffee shop\"],[\"Starbucks\",\"110 S Indiana Ave, Bloomington\",4.3,278,\"coffee shop\"],[\"Crumble Coffee and Bakery\",\"316 S Swain Ave, Bloomington\",5.0,2,\"coffee shop\"],[\"Starbucks\",\"2105 Liberty Dr, Bloomington\",4.1,12,\"coffee shop\"],[\"The Caffeinated Cook\",\"206 N Sale St, Ellettsville\",4.9,29,\"coffee shop\"],[\"Starbucks\",\"2966 E 3rd St, Bloomington\",3.2,29,\"coffee shop\"],[\"Starbucks\",\"1921 S Walnut St, Bloomington\",4.2,556,\"coffee shop\"]],\"hovertemplate\":\"<b>%{hovertext}</b><br><br>Category=%{customdata[4]}<br>Lat=%{lat}<br>Lng=%{lon}<br>Name=%{customdata[0]}<br>Address=%{customdata[1]}<br>Rating=%{customdata[2]}<br>User_ratings_total=%{customdata[3]}<extra></extra>\",\"hovertext\":[\"Soma Coffeehouse and Juice Bar\",\"Brilliant Coffee Company\",\"Crumble Coffee and Bakery\",\"Hopscotch Coffee\",\"Poindexter Coffee\",\"Needmore Coffee Roasters\",\"Starbucks\",\"Crumble Coffee and Bakery\",\"Hopscotch Coffee Roastery / To-Go\",\"Soma Coffee House And Juice Bar East\",\"Americano\",\"Soma Coffee House & Juice Bar\",\"Verona Coffee House\",\"The Inkwell Bakery & Cafe\",\"Starbucks\",\"Crumble Coffee and Bakery\",\"Starbucks\",\"The Caffeinated Cook\",\"Starbucks\",\"Starbucks\"],\"lat\":[39.166225,39.1673509,39.1491064,39.1571654,39.166355,39.16705169999999,39.1685239,39.1714796,39.168136,39.163836,39.2212336,39.1507565,39.1334204,39.1630274,39.16613,39.1634392,39.1461,39.234411,39.1620696,39.145471],\"legendgroup\":\"coffee shop\",\"lon\":[-86.5300472,-86.53578329999999,-86.49965019999999,-86.5360685,-86.5311943,-86.49448199999999,-86.5731289,-86.53468819999999,-86.53717220000001,-86.51626499999999,-86.6050759,-86.5271094,-86.4976251,-86.5224901,-86.527074,-86.5156897,-86.57723999999999,-86.62386699999999,-86.494209,-86.53172599999999],\"marker\":{\"color\":\"#00cc96\"},\"mode\":\"markers\",\"name\":\"coffee shop\",\"showlegend\":true,\"subplot\":\"mapbox\",\"type\":\"scattermapbox\"},{\"customdata\":[[\"Wylie House Museum\",\"307 E 2nd St, Bloomington\",4.8,37,\"museum\"],[\"The Farmer House Museum\",\"529 N College Ave, Bloomington\",3.0,11,\"museum\"],[\"Eskenazi Museum of Art\",\"Eskenazi Museum of Art, 1133 E 7th St, Bloomington\",4.6,93,\"museum\"],[\"Monroe County History Center\",\"202 E 6th St, Bloomington\",4.5,60,\"museum\"],[\"WonderLab Science Museum\",\"308 W 4th St, Bloomington\",4.8,739,\"museum\"],[\"IU Museum of Archaeology and Anthropology\",\"416 N Indiana Ave, Bloomington\",0.0,0,\"museum\"],[\"Museum of the Person USA\",\"1905 N Range Rd, Bloomington\",0.0,0,\"museum\"],[\"Grunwald Gallery of Art\",\"Fine Arts Building, 1201 E 7th St, Bloomington\",4.6,12,\"museum\"],[\"Ellettsville Old Town Hall History Center\",\"Town Council, 221 N Sale St, Ellettsville\",0.0,0,\"museum\"]],\"hovertemplate\":\"<b>%{hovertext}</b><br><br>Category=%{customdata[4]}<br>Lat=%{lat}<br>Lng=%{lon}<br>Name=%{customdata[0]}<br>Address=%{customdata[1]}<br>Rating=%{customdata[2]}<br>User_ratings_total=%{customdata[3]}<extra></extra>\",\"hovertext\":[\"Wylie House Museum\",\"The Farmer House Museum\",\"Eskenazi Museum of Art\",\"Monroe County History Center\",\"WonderLab Science Museum\",\"IU Museum of Archaeology and Anthropology\",\"Museum of the Person USA\",\"Grunwald Gallery of Art\",\"Ellettsville Old Town Hall History Center\"],\"lat\":[39.1616659,39.1713544,39.169186,39.1671964,39.1659081,39.1700344,39.1748229,39.1688637,39.2348916],\"legendgroup\":\"museum\",\"lon\":[-86.5308769,-86.5349519,-86.51975809999999,-86.5319401,-86.5366466,-86.5262383,-86.49959869999999,-86.51897489999999,-86.6235923],\"marker\":{\"color\":\"#ab63fa\"},\"mode\":\"markers\",\"name\":\"museum\",\"showlegend\":true,\"subplot\":\"mapbox\",\"type\":\"scattermapbox\"}],                        {\"template\":{\"data\":{\"bar\":[{\"error_x\":{\"color\":\"#2a3f5f\"},\"error_y\":{\"color\":\"#2a3f5f\"},\"marker\":{\"line\":{\"color\":\"#E5ECF6\",\"width\":0.5},\"pattern\":{\"fillmode\":\"overlay\",\"size\":10,\"solidity\":0.2}},\"type\":\"bar\"}],\"barpolar\":[{\"marker\":{\"line\":{\"color\":\"#E5ECF6\",\"width\":0.5},\"pattern\":{\"fillmode\":\"overlay\",\"size\":10,\"solidity\":0.2}},\"type\":\"barpolar\"}],\"carpet\":[{\"aaxis\":{\"endlinecolor\":\"#2a3f5f\",\"gridcolor\":\"white\",\"linecolor\":\"white\",\"minorgridcolor\":\"white\",\"startlinecolor\":\"#2a3f5f\"},\"baxis\":{\"endlinecolor\":\"#2a3f5f\",\"gridcolor\":\"white\",\"linecolor\":\"white\",\"minorgridcolor\":\"white\",\"startlinecolor\":\"#2a3f5f\"},\"type\":\"carpet\"}],\"choropleth\":[{\"colorbar\":{\"outlinewidth\":0,\"ticks\":\"\"},\"type\":\"choropleth\"}],\"contour\":[{\"colorbar\":{\"outlinewidth\":0,\"ticks\":\"\"},\"colorscale\":[[0.0,\"#0d0887\"],[0.1111111111111111,\"#46039f\"],[0.2222222222222222,\"#7201a8\"],[0.3333333333333333,\"#9c179e\"],[0.4444444444444444,\"#bd3786\"],[0.5555555555555556,\"#d8576b\"],[0.6666666666666666,\"#ed7953\"],[0.7777777777777778,\"#fb9f3a\"],[0.8888888888888888,\"#fdca26\"],[1.0,\"#f0f921\"]],\"type\":\"contour\"}],\"contourcarpet\":[{\"colorbar\":{\"outlinewidth\":0,\"ticks\":\"\"},\"type\":\"contourcarpet\"}],\"heatmap\":[{\"colorbar\":{\"outlinewidth\":0,\"ticks\":\"\"},\"colorscale\":[[0.0,\"#0d0887\"],[0.1111111111111111,\"#46039f\"],[0.2222222222222222,\"#7201a8\"],[0.3333333333333333,\"#9c179e\"],[0.4444444444444444,\"#bd3786\"],[0.5555555555555556,\"#d8576b\"],[0.6666666666666666,\"#ed7953\"],[0.7777777777777778,\"#fb9f3a\"],[0.8888888888888888,\"#fdca26\"],[1.0,\"#f0f921\"]],\"type\":\"heatmap\"}],\"heatmapgl\":[{\"colorbar\":{\"outlinewidth\":0,\"ticks\":\"\"},\"colorscale\":[[0.0,\"#0d0887\"],[0.1111111111111111,\"#46039f\"],[0.2222222222222222,\"#7201a8\"],[0.3333333333333333,\"#9c179e\"],[0.4444444444444444,\"#bd3786\"],[0.5555555555555556,\"#d8576b\"],[0.6666666666666666,\"#ed7953\"],[0.7777777777777778,\"#fb9f3a\"],[0.8888888888888888,\"#fdca26\"],[1.0,\"#f0f921\"]],\"type\":\"heatmapgl\"}],\"histogram\":[{\"marker\":{\"pattern\":{\"fillmode\":\"overlay\",\"size\":10,\"solidity\":0.2}},\"type\":\"histogram\"}],\"histogram2d\":[{\"colorbar\":{\"outlinewidth\":0,\"ticks\":\"\"},\"colorscale\":[[0.0,\"#0d0887\"],[0.1111111111111111,\"#46039f\"],[0.2222222222222222,\"#7201a8\"],[0.3333333333333333,\"#9c179e\"],[0.4444444444444444,\"#bd3786\"],[0.5555555555555556,\"#d8576b\"],[0.6666666666666666,\"#ed7953\"],[0.7777777777777778,\"#fb9f3a\"],[0.8888888888888888,\"#fdca26\"],[1.0,\"#f0f921\"]],\"type\":\"histogram2d\"}],\"histogram2dcontour\":[{\"colorbar\":{\"outlinewidth\":0,\"ticks\":\"\"},\"colorscale\":[[0.0,\"#0d0887\"],[0.1111111111111111,\"#46039f\"],[0.2222222222222222,\"#7201a8\"],[0.3333333333333333,\"#9c179e\"],[0.4444444444444444,\"#bd3786\"],[0.5555555555555556,\"#d8576b\"],[0.6666666666666666,\"#ed7953\"],[0.7777777777777778,\"#fb9f3a\"],[0.8888888888888888,\"#fdca26\"],[1.0,\"#f0f921\"]],\"type\":\"histogram2dcontour\"}],\"mesh3d\":[{\"colorbar\":{\"outlinewidth\":0,\"ticks\":\"\"},\"type\":\"mesh3d\"}],\"parcoords\":[{\"line\":{\"colorbar\":{\"outlinewidth\":0,\"ticks\":\"\"}},\"type\":\"parcoords\"}],\"pie\":[{\"automargin\":true,\"type\":\"pie\"}],\"scatter\":[{\"marker\":{\"colorbar\":{\"outlinewidth\":0,\"ticks\":\"\"}},\"type\":\"scatter\"}],\"scatter3d\":[{\"line\":{\"colorbar\":{\"outlinewidth\":0,\"ticks\":\"\"}},\"marker\":{\"colorbar\":{\"outlinewidth\":0,\"ticks\":\"\"}},\"type\":\"scatter3d\"}],\"scattercarpet\":[{\"marker\":{\"colorbar\":{\"outlinewidth\":0,\"ticks\":\"\"}},\"type\":\"scattercarpet\"}],\"scattergeo\":[{\"marker\":{\"colorbar\":{\"outlinewidth\":0,\"ticks\":\"\"}},\"type\":\"scattergeo\"}],\"scattergl\":[{\"marker\":{\"colorbar\":{\"outlinewidth\":0,\"ticks\":\"\"}},\"type\":\"scattergl\"}],\"scattermapbox\":[{\"marker\":{\"colorbar\":{\"outlinewidth\":0,\"ticks\":\"\"}},\"type\":\"scattermapbox\"}],\"scatterpolar\":[{\"marker\":{\"colorbar\":{\"outlinewidth\":0,\"ticks\":\"\"}},\"type\":\"scatterpolar\"}],\"scatterpolargl\":[{\"marker\":{\"colorbar\":{\"outlinewidth\":0,\"ticks\":\"\"}},\"type\":\"scatterpolargl\"}],\"scatterternary\":[{\"marker\":{\"colorbar\":{\"outlinewidth\":0,\"ticks\":\"\"}},\"type\":\"scatterternary\"}],\"surface\":[{\"colorbar\":{\"outlinewidth\":0,\"ticks\":\"\"},\"colorscale\":[[0.0,\"#0d0887\"],[0.1111111111111111,\"#46039f\"],[0.2222222222222222,\"#7201a8\"],[0.3333333333333333,\"#9c179e\"],[0.4444444444444444,\"#bd3786\"],[0.5555555555555556,\"#d8576b\"],[0.6666666666666666,\"#ed7953\"],[0.7777777777777778,\"#fb9f3a\"],[0.8888888888888888,\"#fdca26\"],[1.0,\"#f0f921\"]],\"type\":\"surface\"}],\"table\":[{\"cells\":{\"fill\":{\"color\":\"#EBF0F8\"},\"line\":{\"color\":\"white\"}},\"header\":{\"fill\":{\"color\":\"#C8D4E3\"},\"line\":{\"color\":\"white\"}},\"type\":\"table\"}]},\"layout\":{\"annotationdefaults\":{\"arrowcolor\":\"#2a3f5f\",\"arrowhead\":0,\"arrowwidth\":1},\"autotypenumbers\":\"strict\",\"coloraxis\":{\"colorbar\":{\"outlinewidth\":0,\"ticks\":\"\"}},\"colorscale\":{\"diverging\":[[0,\"#8e0152\"],[0.1,\"#c51b7d\"],[0.2,\"#de77ae\"],[0.3,\"#f1b6da\"],[0.4,\"#fde0ef\"],[0.5,\"#f7f7f7\"],[0.6,\"#e6f5d0\"],[0.7,\"#b8e186\"],[0.8,\"#7fbc41\"],[0.9,\"#4d9221\"],[1,\"#276419\"]],\"sequential\":[[0.0,\"#0d0887\"],[0.1111111111111111,\"#46039f\"],[0.2222222222222222,\"#7201a8\"],[0.3333333333333333,\"#9c179e\"],[0.4444444444444444,\"#bd3786\"],[0.5555555555555556,\"#d8576b\"],[0.6666666666666666,\"#ed7953\"],[0.7777777777777778,\"#fb9f3a\"],[0.8888888888888888,\"#fdca26\"],[1.0,\"#f0f921\"]],\"sequentialminus\":[[0.0,\"#0d0887\"],[0.1111111111111111,\"#46039f\"],[0.2222222222222222,\"#7201a8\"],[0.3333333333333333,\"#9c179e\"],[0.4444444444444444,\"#bd3786\"],[0.5555555555555556,\"#d8576b\"],[0.6666666666666666,\"#ed7953\"],[0.7777777777777778,\"#fb9f3a\"],[0.8888888888888888,\"#fdca26\"],[1.0,\"#f0f921\"]]},\"colorway\":[\"#636efa\",\"#EF553B\",\"#00cc96\",\"#ab63fa\",\"#FFA15A\",\"#19d3f3\",\"#FF6692\",\"#B6E880\",\"#FF97FF\",\"#FECB52\"],\"font\":{\"color\":\"#2a3f5f\"},\"geo\":{\"bgcolor\":\"white\",\"lakecolor\":\"white\",\"landcolor\":\"#E5ECF6\",\"showlakes\":true,\"showland\":true,\"subunitcolor\":\"white\"},\"hoverlabel\":{\"align\":\"left\"},\"hovermode\":\"closest\",\"mapbox\":{\"style\":\"light\"},\"paper_bgcolor\":\"white\",\"plot_bgcolor\":\"#E5ECF6\",\"polar\":{\"angularaxis\":{\"gridcolor\":\"white\",\"linecolor\":\"white\",\"ticks\":\"\"},\"bgcolor\":\"#E5ECF6\",\"radialaxis\":{\"gridcolor\":\"white\",\"linecolor\":\"white\",\"ticks\":\"\"}},\"scene\":{\"xaxis\":{\"backgroundcolor\":\"#E5ECF6\",\"gridcolor\":\"white\",\"gridwidth\":2,\"linecolor\":\"white\",\"showbackground\":true,\"ticks\":\"\",\"zerolinecolor\":\"white\"},\"yaxis\":{\"backgroundcolor\":\"#E5ECF6\",\"gridcolor\":\"white\",\"gridwidth\":2,\"linecolor\":\"white\",\"showbackground\":true,\"ticks\":\"\",\"zerolinecolor\":\"white\"},\"zaxis\":{\"backgroundcolor\":\"#E5ECF6\",\"gridcolor\":\"white\",\"gridwidth\":2,\"linecolor\":\"white\",\"showbackground\":true,\"ticks\":\"\",\"zerolinecolor\":\"white\"}},\"shapedefaults\":{\"line\":{\"color\":\"#2a3f5f\"}},\"ternary\":{\"aaxis\":{\"gridcolor\":\"white\",\"linecolor\":\"white\",\"ticks\":\"\"},\"baxis\":{\"gridcolor\":\"white\",\"linecolor\":\"white\",\"ticks\":\"\"},\"bgcolor\":\"#E5ECF6\",\"caxis\":{\"gridcolor\":\"white\",\"linecolor\":\"white\",\"ticks\":\"\"}},\"title\":{\"x\":0.05},\"xaxis\":{\"automargin\":true,\"gridcolor\":\"white\",\"linecolor\":\"white\",\"ticks\":\"\",\"title\":{\"standoff\":15},\"zerolinecolor\":\"white\",\"zerolinewidth\":2},\"yaxis\":{\"automargin\":true,\"gridcolor\":\"white\",\"linecolor\":\"white\",\"ticks\":\"\",\"title\":{\"standoff\":15},\"zerolinecolor\":\"white\",\"zerolinewidth\":2}}},\"mapbox\":{\"domain\":{\"x\":[0.0,1.0],\"y\":[0.0,1.0]},\"center\":{\"lat\":39.16582365217392,\"lon\":-86.53656704492754},\"zoom\":10,\"style\":\"open-street-map\"},\"legend\":{\"title\":{\"text\":\"Category\"},\"tracegroupgap\":0},\"margin\":{\"t\":0,\"r\":0,\"l\":0,\"b\":0},\"height\":300},                        {\"responsive\": true}                    ).then(function(){\n",
       "                            \n",
       "var gd = document.getElementById('2419f3c2-2d57-47db-ad28-ddccff9a05c8');\n",
       "var x = new MutationObserver(function (mutations, observer) {{\n",
       "        var display = window.getComputedStyle(gd).display;\n",
       "        if (!display || display === 'none') {{\n",
       "            console.log([gd, 'removed!']);\n",
       "            Plotly.purge(gd);\n",
       "            observer.disconnect();\n",
       "        }}\n",
       "}});\n",
       "\n",
       "// Listen for the removal of the full notebook cells\n",
       "var notebookContainer = gd.closest('#notebook-container');\n",
       "if (notebookContainer) {{\n",
       "    x.observe(notebookContainer, {childList: true});\n",
       "}}\n",
       "\n",
       "// Listen for the clearing of the current output cell\n",
       "var outputEl = gd.closest('.output');\n",
       "if (outputEl) {{\n",
       "    x.observe(outputEl, {childList: true});\n",
       "}}\n",
       "\n",
       "                        })                };                });            </script>        </div>"
      ]
     },
     "metadata": {},
     "output_type": "display_data"
    }
   ],
   "source": [
    "\n",
    "fig = px.scatter_mapbox(df, lat=\"Lat\", lon=\"Lng\", hover_name=\"Name\", hover_data=[\"Name\",\"Address\", \"Rating\", \"User_ratings_total\",\"Category\"],\n",
    "                         zoom=10, height=300,color=\"Category\")\n",
    "fig.update_layout(mapbox_style=\"open-street-map\")\n",
    "fig.update_layout(margin={\"r\": 0, \"t\": 0, \"l\": 0, \"b\": 0})\n",
    "fig.show()\n"
   ]
  },
  {
   "cell_type": "code",
   "execution_count": null,
   "id": "706c2a56",
   "metadata": {},
   "outputs": [],
   "source": []
  }
 ],
 "metadata": {
  "kernelspec": {
   "display_name": "Python 3 (ipykernel)",
   "language": "python",
   "name": "python3"
  },
  "language_info": {
   "codemirror_mode": {
    "name": "ipython",
    "version": 3
   },
   "file_extension": ".py",
   "mimetype": "text/x-python",
   "name": "python",
   "nbconvert_exporter": "python",
   "pygments_lexer": "ipython3",
   "version": "3.9.12"
  }
 },
 "nbformat": 4,
 "nbformat_minor": 5
}
